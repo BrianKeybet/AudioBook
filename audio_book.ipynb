{
 "cells": [
  {
   "cell_type": "code",
   "execution_count": null,
   "id": "27de0e35",
   "metadata": {},
   "outputs": [],
   "source": [
    "import streamlit as st # Streamlit is used to create the Streamlit application\n",
    "from gtts import gTTS  # (Google’s Text-to-Speech) is used to convert text to speech\n",
    "import pdfplumber      # pdfplumber is used to extract text from PDF files,\n",
    "import docx            # docx is used to extract text from DOCX files\n",
    "import ebooklib        # \n",
    "from ebooklib import epub #ebooklib and epub are used to extract text from EPUB files"
   ]
  },
  {
   "cell_type": "code",
   "execution_count": null,
   "id": "b87c7da5",
   "metadata": {},
   "outputs": [],
   "source": []
  }
 ],
 "metadata": {
  "kernelspec": {
   "display_name": "Python 3 (ipykernel)",
   "language": "python",
   "name": "python3"
  },
  "language_info": {
   "codemirror_mode": {
    "name": "ipython",
    "version": 3
   },
   "file_extension": ".py",
   "mimetype": "text/x-python",
   "name": "python",
   "nbconvert_exporter": "python",
   "pygments_lexer": "ipython3",
   "version": "3.9.12"
  }
 },
 "nbformat": 4,
 "nbformat_minor": 5
}
