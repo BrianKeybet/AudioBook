{
 "cells": [
  {
   "cell_type": "code",
   "execution_count": 2,
   "id": "00a10418",
   "metadata": {},
   "outputs": [],
   "source": [
    "import streamlit as st # Streamlit is used to create the Streamlit application\n",
    "from gtts import gTTS  # (Google’s Text-to-Speech) is used to convert text to speech\n",
    "import pdfplumber      # pdfplumber is used to extract text from PDF files,\n",
    "import docx            # docx is used to extract text from DOCX files, had to use 'pip install python-docx'\n",
    "import ebooklib        # \n",
    "from ebooklib import epub #ebooklib and epub are used to extract text from EPUB files"
   ]
  },
  {
   "cell_type": "code",
   "execution_count": 3,
   "id": "14d802d4",
   "metadata": {},
   "outputs": [
    {
     "name": "stderr",
     "output_type": "stream",
     "text": [
      "2023-08-03 12:01:29.168 \n",
      "  \u001b[33m\u001b[1mWarning:\u001b[0m to view this Streamlit app on a browser, run it with the following\n",
      "  command:\n",
      "\n",
      "    streamlit run C:\\Users\\support.user2\\.conda\\envs\\streamlit\\Lib\\site-packages\\ipykernel_launcher.py [ARGUMENTS]\n"
     ]
    }
   ],
   "source": [
    "st.title(\"Streamlit AudioBook App\")\n",
    "st.info('Convert your E-book to audiobook')\n",
    "book = st.file_uploader('Please upload your file', type=['pdf', 'txt', 'docx', 'epub'])"
   ]
  },
  {
   "cell_type": "code",
   "execution_count": null,
   "id": "a20a2aad",
   "metadata": {},
   "outputs": [],
   "source": []
  }
 ],
 "metadata": {
  "kernelspec": {
   "display_name": "Python 3 (ipykernel)",
   "language": "python",
   "name": "python3"
  },
  "language_info": {
   "codemirror_mode": {
    "name": "ipython",
    "version": 3
   },
   "file_extension": ".py",
   "mimetype": "text/x-python",
   "name": "python",
   "nbconvert_exporter": "python",
   "pygments_lexer": "ipython3",
   "version": "3.11.4"
  }
 },
 "nbformat": 4,
 "nbformat_minor": 5
}
